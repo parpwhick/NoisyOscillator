{
 "cells": [
  {
   "cell_type": "code",
   "execution_count": 1,
   "metadata": {
    "collapsed": false
   },
   "outputs": [
    {
     "name": "stdout",
     "output_type": "stream",
     "text": [
      "Populating the interactive namespace from numpy and matplotlib\n"
     ]
    }
   ],
   "source": [
    "%pylab notebook\n",
    "%config InlineBackend.figure_format = 'svg'"
   ]
  },
  {
   "cell_type": "code",
   "execution_count": 2,
   "metadata": {
    "collapsed": true
   },
   "outputs": [],
   "source": [
    "data = np.loadtxt(\"avg_16-12-19_13.21.40.txt\")\n",
    "data2 = np.loadtxt(\"avg2_16-12-19_13.21.42.txt\")\n",
    "\n",
    "t = data[:,0]\n",
    "v = data[:,4:7]\n",
    "v2 = data2[:,4:7]\n",
    "x = data[:, 1:4]\n",
    "x2 = data[:, 1:4]\n",
    "\n",
    "ax = data[:, 3]"
   ]
  },
  {
   "cell_type": "code",
   "execution_count": 3,
   "metadata": {
    "collapsed": false,
    "scrolled": false
   },
   "outputs": [],
   "source": [
    "def avg(t, q, every = 1000):\n",
    "    q1 = 0\n",
    "    if len(q.shape)==1 :\n",
    "        q1 = np.diff(q.cumsum()[::every]) / every\n",
    "    else:\n",
    "        q1 = np.diff(q.cumsum(axis=0)[::every, :], axis=0) / every\n",
    "    t1 = t[1::every];\n",
    "    return t1, q1\n",
    "\n",
    "figure()\n",
    "plot(*avg(t, ax))\n",
    "title(\"Position [axial]\")\n",
    "\n",
    "figure()\n",
    "plot(*avg(t,x))\n",
    "title(\"Positions\")\n",
    "\n",
    "figure()\n",
    "temps = (v2 - v ** 2)* 4.8\n",
    "plot(*avg(t, temps))\n",
    "title(\"Temperatures\")\n",
    "\n",
    "figure()\n",
    "temp_ax = (v2[:,2] - v[:, 2]**2) * 4.8\n",
    "plot(*avg(t, temp_ax))\n",
    "title(\"Axial temperature\")"
   ]
  },
  {
   "cell_type": "code",
   "execution_count": null,
   "metadata": {
    "collapsed": true
   },
   "outputs": [],
   "source": []
  },
  {
   "cell_type": "code",
   "execution_count": null,
   "metadata": {
    "collapsed": true
   },
   "outputs": [],
   "source": []
  }
 ],
 "metadata": {
  "kernelspec": {
   "display_name": "Python 2",
   "language": "python",
   "name": "python2"
  },
  "language_info": {
   "codemirror_mode": {
    "name": "ipython",
    "version": 2
   },
   "file_extension": ".py",
   "mimetype": "text/x-python",
   "name": "python",
   "nbconvert_exporter": "python",
   "pygments_lexer": "ipython2",
   "version": "2.7.12+"
  }
 },
 "nbformat": 4,
 "nbformat_minor": 0
}
